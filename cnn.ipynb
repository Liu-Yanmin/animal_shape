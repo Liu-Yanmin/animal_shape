{
 "cells": [
  {
   "cell_type": "code",
   "execution_count": 1,
   "id": "bdf03199",
   "metadata": {},
   "outputs": [],
   "source": [
    "import tensorflow as tf\n",
    "from tensorflow import keras\n",
    "import matplotlib.pyplot as plt\n",
    "%matplotlib inline\n",
    "import numpy as np\n",
    "import glob\n",
    "import os"
   ]
  },
  {
   "cell_type": "code",
   "execution_count": 2,
   "id": "e9ecb1e8",
   "metadata": {},
   "outputs": [
    {
     "name": "stdout",
     "output_type": "stream",
     "text": [
      "Tensorflow version: 2.9.1\n"
     ]
    }
   ],
   "source": [
    "print('Tensorflow version: {}'.format(tf.__version__))"
   ]
  },
  {
   "cell_type": "code",
   "execution_count": 3,
   "id": "2e88c99d",
   "metadata": {},
   "outputs": [],
   "source": [
    "train_image_path = glob.glob('dog/train/*/*.jpg')"
   ]
  },
  {
   "cell_type": "code",
   "execution_count": 4,
   "id": "5fc4b08a",
   "metadata": {},
   "outputs": [
    {
     "data": {
      "text/plain": [
       "367"
      ]
     },
     "execution_count": 4,
     "metadata": {},
     "output_type": "execute_result"
    }
   ],
   "source": [
    "len(train_image_path)"
   ]
  },
  {
   "cell_type": "code",
   "execution_count": 5,
   "id": "c93e0ab1",
   "metadata": {},
   "outputs": [
    {
     "data": {
      "text/plain": [
       "['dog/train\\\\healthy\\\\ia_100010623.jpg',\n",
       " 'dog/train\\\\healthy\\\\ia_100010854.jpg',\n",
       " 'dog/train\\\\healthy\\\\ia_100010855.jpg',\n",
       " 'dog/train\\\\healthy\\\\ia_100010857.jpg',\n",
       " 'dog/train\\\\healthy\\\\ia_100010858.jpg',\n",
       " 'dog/train\\\\healthy\\\\ia_100010871.jpg',\n",
       " 'dog/train\\\\healthy\\\\ia_100011165.jpg',\n",
       " 'dog/train\\\\healthy\\\\ia_100011306.jpg',\n",
       " 'dog/train\\\\healthy\\\\ia_100011312.jpg',\n",
       " 'dog/train\\\\healthy\\\\ia_100011314.jpg',\n",
       " 'dog/train\\\\healthy\\\\ia_100011574.jpg',\n",
       " 'dog/train\\\\healthy\\\\ia_100011581.jpg',\n",
       " 'dog/train\\\\healthy\\\\ia_100011582.jpg',\n",
       " 'dog/train\\\\unhealthy\\\\french_bulldog_google_107.jpg',\n",
       " 'dog/train\\\\unhealthy\\\\french_bulldog_google_108.jpg',\n",
       " 'dog/train\\\\unhealthy\\\\french_bulldog_google_125.jpg',\n",
       " 'dog/train\\\\unhealthy\\\\french_bulldog_google_19.jpg',\n",
       " 'dog/train\\\\unhealthy\\\\french_bulldog_google_26.jpg',\n",
       " 'dog/train\\\\unhealthy\\\\french_bulldog_google_30.jpg',\n",
       " 'dog/train\\\\unhealthy\\\\french_bulldog_google_31.jpg',\n",
       " 'dog/train\\\\unhealthy\\\\french_bulldog_google_34.jpg',\n",
       " 'dog/train\\\\unhealthy\\\\french_bulldog_google_39.jpg',\n",
       " 'dog/train\\\\unhealthy\\\\french_bulldog_google_45.jpg',\n",
       " 'dog/train\\\\unhealthy\\\\french_bulldog_google_48.jpg',\n",
       " 'dog/train\\\\unhealthy\\\\french_bulldog_google_51 - 副本.jpg',\n",
       " 'dog/train\\\\unhealthy\\\\french_bulldog_google_53.jpg',\n",
       " 'dog/train\\\\unhealthy\\\\french_bulldog_google_59.jpg',\n",
       " 'dog/train\\\\unhealthy\\\\french_bulldog_google_60.jpg',\n",
       " 'dog/train\\\\unhealthy\\\\french_bulldog_google_68.jpg',\n",
       " 'dog/train\\\\unhealthy\\\\french_bulldog_google_78.jpg',\n",
       " 'dog/train\\\\unhealthy\\\\french_bulldog_google_8.jpg',\n",
       " 'dog/train\\\\unhealthy\\\\french_bulldog_google_85.jpg',\n",
       " 'dog/train\\\\unhealthy\\\\french_bulldog_google_96.jpg',\n",
       " 'dog/train\\\\unhealthy\\\\g11.jpg',\n",
       " 'dog/train\\\\unhealthy\\\\g12.jpg',\n",
       " 'dog/train\\\\unhealthy\\\\g14.jpg',\n",
       " 'dog/train\\\\unhealthy\\\\g34.jpg',\n",
       " 'dog/train\\\\unhealthy\\\\g35 - 副本.jpg',\n",
       " 'dog/train\\\\unhealthy\\\\g45.jpg',\n",
       " 'dog/train\\\\unhealthy\\\\g46.jpg',\n",
       " 'dog/train\\\\unhealthy\\\\g47.jpg',\n",
       " 'dog/train\\\\unhealthy\\\\g5.jpg',\n",
       " 'dog/train\\\\unhealthy\\\\g7.jpg',\n",
       " 'dog/train\\\\unhealthy\\\\ia_100000003280.jpg',\n",
       " 'dog/train\\\\unhealthy\\\\ia_100000003299.jpg',\n",
       " 'dog/train\\\\unhealthy\\\\ia_100000020.jpg',\n",
       " 'dog/train\\\\unhealthy\\\\ia_100000034.jpg',\n",
       " 'dog/train\\\\unhealthy\\\\ia_100000039.jpg',\n",
       " 'dog/train\\\\unhealthy\\\\ia_100000709.jpg',\n",
       " 'dog/train\\\\unhealthy\\\\ia_100000710.jpg',\n",
       " 'dog/train\\\\unhealthy\\\\ia_100000714.jpg',\n",
       " 'dog/train\\\\unhealthy\\\\ia_100000964.jpg',\n",
       " 'dog/train\\\\unhealthy\\\\ia_100000976.jpg',\n",
       " 'dog/train\\\\unhealthy\\\\ia_100001187 - 副本 (2).jpg',\n",
       " 'dog/train\\\\unhealthy\\\\ia_100001187.jpg',\n",
       " 'dog/train\\\\unhealthy\\\\ia_100001385.jpg',\n",
       " 'dog/train\\\\unhealthy\\\\ia_100001401.jpg',\n",
       " 'dog/train\\\\unhealthy\\\\ia_100001909.jpg',\n",
       " 'dog/train\\\\unhealthy\\\\ia_100001920 - 副本.jpg',\n",
       " 'dog/train\\\\unhealthy\\\\ia_100001922.jpg',\n",
       " 'dog/train\\\\unhealthy\\\\ia_100002836.jpg',\n",
       " 'dog/train\\\\unhealthy\\\\ia_100002837.jpg',\n",
       " 'dog/train\\\\unhealthy\\\\ia_100002852.jpg',\n",
       " 'dog/train\\\\unhealthy\\\\ia_100002856.jpg',\n",
       " 'dog/train\\\\unhealthy\\\\ia_100003241.jpg',\n",
       " 'dog/train\\\\unhealthy\\\\ia_100003489.jpg',\n",
       " 'dog/train\\\\unhealthy\\\\ia_100003500.jpg',\n",
       " 'dog/train\\\\unhealthy\\\\ia_100004033.jpg',\n",
       " 'dog/train\\\\unhealthy\\\\ia_100004050.jpg',\n",
       " 'dog/train\\\\unhealthy\\\\ia_100004254.jpg']"
      ]
     },
     "execution_count": 5,
     "metadata": {},
     "output_type": "execute_result"
    }
   ],
   "source": [
    "train_image_path[280:350]"
   ]
  },
  {
   "cell_type": "code",
   "execution_count": 6,
   "id": "14473669",
   "metadata": {},
   "outputs": [
    {
     "data": {
      "text/plain": [
       "['dog/train\\\\unhealthy\\\\ia_100009834.jpg',\n",
       " 'dog/train\\\\unhealthy\\\\ia_100010146.jpg',\n",
       " 'dog/train\\\\unhealthy\\\\ia_100011148.jpg',\n",
       " 'dog/train\\\\unhealthy\\\\ia_100011313.jpg',\n",
       " 'dog/train\\\\unhealthy\\\\ia_100011584.jpg']"
      ]
     },
     "execution_count": 6,
     "metadata": {},
     "output_type": "execute_result"
    }
   ],
   "source": [
    "train_image_path[-5:]"
   ]
  },
  {
   "cell_type": "code",
   "execution_count": 7,
   "id": "d3ff3574",
   "metadata": {},
   "outputs": [],
   "source": [
    "train_image_label = [int(path.split('\\\\')[1] == 'healthy') for path in train_image_path]"
   ]
  },
  {
   "cell_type": "code",
   "execution_count": 8,
   "id": "7b63016c",
   "metadata": {},
   "outputs": [
    {
     "data": {
      "text/plain": [
       "[1, 1, 1, 1, 1]"
      ]
     },
     "execution_count": 8,
     "metadata": {},
     "output_type": "execute_result"
    }
   ],
   "source": [
    "train_image_label[:5]"
   ]
  },
  {
   "cell_type": "code",
   "execution_count": 9,
   "id": "93f926fa",
   "metadata": {},
   "outputs": [
    {
     "data": {
      "text/plain": [
       "[0, 0, 0, 0, 0]"
      ]
     },
     "execution_count": 9,
     "metadata": {},
     "output_type": "execute_result"
    }
   ],
   "source": [
    "train_image_label[-5:]"
   ]
  },
  {
   "cell_type": "code",
   "execution_count": 10,
   "id": "84b04dbe",
   "metadata": {},
   "outputs": [],
   "source": [
    "def load_preprosess_image(path, label):\n",
    "    image = tf.io.read_file(path)\n",
    "    image = tf.image.decode_jpeg(image, channels=3)\n",
    "    image = tf.image.resize(image, [256, 256])\n",
    "    image = tf.cast(image, tf.float32)\n",
    "    image = image/255\n",
    "    label = tf.reshape(label, [1])\n",
    "    return image, label"
   ]
  },
  {
   "cell_type": "code",
   "execution_count": 11,
   "id": "29b69de3",
   "metadata": {},
   "outputs": [],
   "source": [
    "train_image_ds = tf.data.Dataset.from_tensor_slices((train_image_path, train_image_label))"
   ]
  },
  {
   "cell_type": "code",
   "execution_count": 12,
   "id": "35055b46",
   "metadata": {},
   "outputs": [],
   "source": [
    "AUTOTUNE = tf.data.experimental.AUTOTUNE"
   ]
  },
  {
   "cell_type": "code",
   "execution_count": 13,
   "id": "6a3dc98b",
   "metadata": {},
   "outputs": [],
   "source": [
    "train_image_ds = train_image_ds.map(load_preprosess_image, num_parallel_calls=AUTOTUNE)"
   ]
  },
  {
   "cell_type": "code",
   "execution_count": 14,
   "id": "19ff3135",
   "metadata": {},
   "outputs": [
    {
     "data": {
      "text/plain": [
       "<ParallelMapDataset element_spec=(TensorSpec(shape=(256, 256, 3), dtype=tf.float32, name=None), TensorSpec(shape=(1,), dtype=tf.int32, name=None))>"
      ]
     },
     "execution_count": 14,
     "metadata": {},
     "output_type": "execute_result"
    }
   ],
   "source": [
    "train_image_ds"
   ]
  },
  {
   "cell_type": "code",
   "execution_count": 15,
   "id": "a9efcaaf",
   "metadata": {},
   "outputs": [],
   "source": [
    "BATCH_SIZE = 32\n",
    "train_count = len(train_image_path)"
   ]
  },
  {
   "cell_type": "code",
   "execution_count": 16,
   "id": "f9b1a1f1",
   "metadata": {},
   "outputs": [],
   "source": [
    "train_image_ds = train_image_ds.shuffle(train_count).batch(BATCH_SIZE)\n",
    "train_image_ds = train_image_ds.prefetch(AUTOTUNE)"
   ]
  },
  {
   "cell_type": "code",
   "execution_count": 17,
   "id": "49d8c6a8",
   "metadata": {},
   "outputs": [],
   "source": [
    "test_image_path = glob.glob('dog/test/*/*.jpg')\n",
    "test_image_label = [int(path.split('\\\\')[1] == 'healthy') for path in test_image_path]\n",
    "test_image_ds = tf.data.Dataset.from_tensor_slices((test_image_path, test_image_label))\n",
    "test_image_ds = test_image_ds.map(load_preprosess_image, num_parallel_calls=AUTOTUNE)\n",
    "test_image_ds = test_image_ds.batch(BATCH_SIZE)\n",
    "test_image_ds = test_image_ds.prefetch(AUTOTUNE)"
   ]
  },
  {
   "cell_type": "code",
   "execution_count": 18,
   "id": "b421ef75",
   "metadata": {},
   "outputs": [],
   "source": [
    "imgs,labels=next(iter(train_image_ds))"
   ]
  },
  {
   "cell_type": "code",
   "execution_count": 19,
   "id": "084bad4b",
   "metadata": {},
   "outputs": [
    {
     "data": {
      "text/plain": [
       "TensorShape([32, 256, 256, 3])"
      ]
     },
     "execution_count": 19,
     "metadata": {},
     "output_type": "execute_result"
    }
   ],
   "source": [
    "imgs.shape"
   ]
  },
  {
   "cell_type": "code",
   "execution_count": 20,
   "id": "baa7a1ec",
   "metadata": {},
   "outputs": [
    {
     "data": {
      "text/plain": [
       "TensorShape([32, 1])"
      ]
     },
     "execution_count": 20,
     "metadata": {},
     "output_type": "execute_result"
    }
   ],
   "source": [
    "labels.shape"
   ]
  },
  {
   "cell_type": "code",
   "execution_count": 21,
   "id": "69ebc16f",
   "metadata": {},
   "outputs": [
    {
     "data": {
      "text/plain": [
       "<matplotlib.image.AxesImage at 0x1cf607cead0>"
      ]
     },
     "execution_count": 21,
     "metadata": {},
     "output_type": "execute_result"
    },
    {
     "data": {
      "image/png": "[encoded data removed]",
      "text/plain": [
       "<Figure size 432x288 with 1 Axes>"
      ]
     },
     "metadata": {
      "needs_background": "light"
     },
     "output_type": "display_data"
    }
   ],
   "source": [
    "plt.imshow(imgs[0])"
   ]
  },
  {
   "cell_type": "code",
   "execution_count": 22,
   "id": "96b87481",
   "metadata": {},
   "outputs": [
    {
     "data": {
      "text/plain": [
       "<tf.Tensor: shape=(1,), dtype=int32, numpy=array([1])>"
      ]
     },
     "execution_count": 22,
     "metadata": {},
     "output_type": "execute_result"
    }
   ],
   "source": [
    "labels[0]"
   ]
  },
  {
   "cell_type": "code",
   "execution_count": 23,
   "id": "2f43243e",
   "metadata": {},
   "outputs": [],
   "source": [
    "model = keras.Sequential([\n",
    "    tf.keras.layers.Conv2D(64, (3, 3), input_shape=(256, 256, 3), activation='relu'),\n",
    "    tf.keras.layers.BatchNormalization(),\n",
    "    tf.keras.layers.Conv2D(64, (3, 3), activation='relu'),\n",
    "    tf.keras.layers.BatchNormalization(),\n",
    "    tf.keras.layers.MaxPooling2D(),\n",
    "    tf.keras.layers.Conv2D(128, (3, 3), activation='relu'),\n",
    "    tf.keras.layers.BatchNormalization(),\n",
    "    tf.keras.layers.Conv2D(128, (3, 3), activation='relu'),\n",
    "    tf.keras.layers.BatchNormalization(),\n",
    "    tf.keras.layers.MaxPooling2D(),\n",
    "    tf.keras.layers.Conv2D(256, (3, 3), activation='relu'),\n",
    "    tf.keras.layers.BatchNormalization(),\n",
    "    tf.keras.layers.Conv2D(256, (3, 3), activation='relu'),\n",
    "    tf.keras.layers.BatchNormalization(),\n",
    "    tf.keras.layers.MaxPooling2D(),\n",
    "    tf.keras.layers.Conv2D(512, (3, 3), activation='relu'),\n",
    "    tf.keras.layers.BatchNormalization(),\n",
    "    tf.keras.layers.Conv2D(512, (3, 3), activation='relu'),\n",
    "    tf.keras.layers.BatchNormalization(),\n",
    "    tf.keras.layers.MaxPooling2D(),\n",
    "    tf.keras.layers.Conv2D(1024, (3, 3), activation='relu'),\n",
    "    tf.keras.layers.BatchNormalization(),\n",
    "    tf.keras.layers.Conv2D(1024, (3, 3), activation='relu'),\n",
    "    tf.keras.layers.BatchNormalization(),\n",
    "    tf.keras.layers.GlobalAveragePooling2D(),\n",
    "    tf.keras.layers.Dense(256, activation='relu'),\n",
    "    tf.keras.layers.BatchNormalization(),\n",
    "    tf.keras.layers.Dense(1)\n",
    "])"
   ]
  },
  {
   "cell_type": "code",
   "execution_count": 24,
   "id": "5fe6c9d8",
   "metadata": {},
   "outputs": [
    {
     "name": "stdout",
     "output_type": "stream",
     "text": [
      "Model: \"sequential\"\n",
      "_________________________________________________________________\n",
      " Layer (type)                Output Shape              Param #   \n",
      "=================================================================\n",
      " conv2d (Conv2D)             (None, 254, 254, 64)      1792      \n",
      "                                                                 \n",
      " batch_normalization (BatchN  (None, 254, 254, 64)     256       \n",
      " ormalization)                                                   \n",
      "                                                                 \n",
      " conv2d_1 (Conv2D)           (None, 252, 252, 64)      36928     \n",
      "                                                                 \n",
      " batch_normalization_1 (Batc  (None, 252, 252, 64)     256       \n",
      " hNormalization)                                                 \n",
      "                                                                 \n",
      " max_pooling2d (MaxPooling2D  (None, 126, 126, 64)     0         \n",
      " )                                                               \n",
      "                                                                 \n",
      " conv2d_2 (Conv2D)           (None, 124, 124, 128)     73856     \n",
      "                                                                 \n",
      " batch_normalization_2 (Batc  (None, 124, 124, 128)    512       \n",
      " hNormalization)                                                 \n",
      "                                                                 \n",
      " conv2d_3 (Conv2D)           (None, 122, 122, 128)     147584    \n",
      "                                                                 \n",
      " batch_normalization_3 (Batc  (None, 122, 122, 128)    512       \n",
      " hNormalization)                                                 \n",
      "                                                                 \n",
      " max_pooling2d_1 (MaxPooling  (None, 61, 61, 128)      0         \n",
      " 2D)                                                             \n",
      "                                                                 \n",
      " conv2d_4 (Conv2D)           (None, 59, 59, 256)       295168    \n",
      "                                                                 \n",
      " batch_normalization_4 (Batc  (None, 59, 59, 256)      1024      \n",
      " hNormalization)                                                 \n",
      "                                                                 \n",
      " conv2d_5 (Conv2D)           (None, 57, 57, 256)       590080    \n",
      "                                                                 \n",
      " batch_normalization_5 (Batc  (None, 57, 57, 256)      1024      \n",
      " hNormalization)                                                 \n",
      "                                                                 \n",
      " max_pooling2d_2 (MaxPooling  (None, 28, 28, 256)      0         \n",
      " 2D)                                                             \n",
      "                                                                 \n",
      " conv2d_6 (Conv2D)           (None, 26, 26, 512)       1180160   \n",
      "                                                                 \n",
      " batch_normalization_6 (Batc  (None, 26, 26, 512)      2048      \n",
      " hNormalization)                                                 \n",
      "                                                                 \n",
      " conv2d_7 (Conv2D)           (None, 24, 24, 512)       2359808   \n",
      "                                                                 \n",
      " batch_normalization_7 (Batc  (None, 24, 24, 512)      2048      \n",
      " hNormalization)                                                 \n",
      "                                                                 \n",
      " max_pooling2d_3 (MaxPooling  (None, 12, 12, 512)      0         \n",
      " 2D)                                                             \n",
      "                                                                 \n",
      " conv2d_8 (Conv2D)           (None, 10, 10, 1024)      4719616   \n",
      "                                                                 \n",
      " batch_normalization_8 (Batc  (None, 10, 10, 1024)     4096      \n",
      " hNormalization)                                                 \n",
      "                                                                 \n",
      " conv2d_9 (Conv2D)           (None, 8, 8, 1024)        9438208   \n",
      "                                                                 \n",
      " batch_normalization_9 (Batc  (None, 8, 8, 1024)       4096      \n",
      " hNormalization)                                                 \n",
      "                                                                 \n",
      " global_average_pooling2d (G  (None, 1024)             0         \n",
      " lobalAveragePooling2D)                                          \n",
      "                                                                 \n",
      " dense (Dense)               (None, 256)               262400    \n",
      "                                                                 \n",
      " batch_normalization_10 (Bat  (None, 256)              1024      \n",
      " chNormalization)                                                \n",
      "                                                                 \n",
      " dense_1 (Dense)             (None, 1)                 257       \n",
      "                                                                 \n",
      "=================================================================\n",
      "Total params: 19,122,753\n",
      "Trainable params: 19,114,305\n",
      "Non-trainable params: 8,448\n",
      "_________________________________________________________________\n"
     ]
    }
   ],
   "source": [
    "model.summary()"
   ]
  },
  {
   "cell_type": "code",
   "execution_count": 25,
   "id": "e9f7335d",
   "metadata": {},
   "outputs": [
    {
     "data": {
      "text/plain": [
       "<tf.Tensor: shape=(), dtype=float32, numpy=7.6666193>"
      ]
     },
     "execution_count": 25,
     "metadata": {},
     "output_type": "execute_result"
    }
   ],
   "source": [
    "tf.keras.losses.binary_crossentropy([0.,0.,1.,1.], [1.,1.,1.,1.])"
   ]
  },
  {
   "cell_type": "code",
   "execution_count": 26,
   "id": "d664d2d1",
   "metadata": {},
   "outputs": [],
   "source": [
    "optimizer = tf.keras.optimizers.Adam(learning_rate=0.0001)"
   ]
  },
  {
   "cell_type": "code",
   "execution_count": 27,
   "id": "40a73f2c",
   "metadata": {},
   "outputs": [],
   "source": [
    "epoch_loss_avg = tf.keras.metrics.Mean('train_loss')\n",
    "train_accuracy = tf.keras.metrics.Accuracy()\n",
    "\n",
    "epoch_loss_avg_test = tf.keras.metrics.Mean('test_loss')\n",
    "test_accuracy = tf.keras.metrics.Accuracy()"
   ]
  },
  {
   "cell_type": "code",
   "execution_count": 28,
   "id": "4ccfee4b",
   "metadata": {},
   "outputs": [],
   "source": [
    "def train_step(model, images, labels):\n",
    "    with tf.GradientTape() as t:\n",
    "        pred = model(images)\n",
    "        loss_step = tf.keras.losses.BinaryCrossentropy(from_logits=True)(labels, pred)\n",
    "    grads = t.gradient(loss_step, model.trainable_variables)\n",
    "    optimizer.apply_gradients(zip(grads, model.trainable_variables))\n",
    "    epoch_loss_avg(loss_step)\n",
    "    train_accuracy(labels, tf.cast(pred>0, tf.int32))"
   ]
  },
  {
   "cell_type": "code",
   "execution_count": 29,
   "id": "5e422c96",
   "metadata": {},
   "outputs": [],
   "source": [
    "def test_step(model, images, labels):\n",
    "    pred = model(images, training=False)\n",
    "    loss_step = tf.keras.losses.BinaryCrossentropy(from_logits=True)(labels, pred)\n",
    "    epoch_loss_avg_test(loss_step)\n",
    "    test_accuracy(labels, tf.cast(pred>0, tf.int32))"
   ]
  },
  {
   "cell_type": "code",
   "execution_count": 30,
   "id": "9ef2d10c",
   "metadata": {},
   "outputs": [],
   "source": [
    "train_loss_results = []\n",
    "train_acc_results = []\n",
    "\n",
    "test_loss_results = []\n",
    "test_acc_results = []"
   ]
  },
  {
   "cell_type": "code",
   "execution_count": 31,
   "id": "81289527",
   "metadata": {},
   "outputs": [],
   "source": [
    "num_epochs = 10"
   ]
  },
  {
   "cell_type": "code",
   "execution_count": null,
   "id": "c416cb26",
   "metadata": {},
   "outputs": [
    {
     "name": "stdout",
     "output_type": "stream",
     "text": [
      "............\n",
      "Epoch:1: loss: 0.584, accuracy: 0.738, test_loss: 0.510, test_accuracy: 0.811\n",
      "............\n",
      "Epoch:2: loss: 0.534, accuracy: 0.798, test_loss: 0.587, test_accuracy: 0.811\n",
      "...."
     ]
    }
   ],
   "source": [
    "for epoch in range(num_epochs):\n",
    "    for imgs_, labels_ in train_image_ds:\n",
    "        train_step(model, imgs_, labels_)\n",
    "        print('.', end='')\n",
    "    print()\n",
    "    \n",
    "    train_loss_results.append(epoch_loss_avg.result())\n",
    "    train_acc_results.append(train_accuracy.result())\n",
    "    \n",
    "    \n",
    "    for imgs_, labels_ in test_image_ds:\n",
    "        test_step(model, imgs_, labels_)\n",
    "        \n",
    "    test_loss_results.append(epoch_loss_avg_test.result())\n",
    "    test_acc_results.append(test_accuracy.result())\n",
    "    \n",
    "    print('Epoch:{}: loss: {:.3f}, accuracy: {:.3f}, test_loss: {:.3f}, test_accuracy: {:.3f}'.format(\n",
    "        epoch + 1,\n",
    "        epoch_loss_avg.result(),\n",
    "        train_accuracy.result(),\n",
    "        epoch_loss_avg_test.result(),\n",
    "        test_accuracy.result()\n",
    "    ))\n",
    "    \n",
    "    epoch_loss_avg.reset_states()\n",
    "    train_accuracy.reset_states()\n",
    "    \n",
    "    epoch_loss_avg_test.reset_states()\n",
    "    test_accuracy.reset_states()"
   ]
  },
  {
   "cell_type": "code",
   "execution_count": null,
   "id": "dd83d463",
   "metadata": {},
   "outputs": [],
   "source": [
    "plt.plot(range(1,num_epochs+1),train_loss_results,label='train_loss')\n",
    "plt.plot(range(1,num_epochs+1),test_loss_results,label='test_loss')\n",
    "plt.legend()"
   ]
  },
  {
   "cell_type": "code",
   "execution_count": null,
   "id": "94b1dcc7",
   "metadata": {},
   "outputs": [],
   "source": [
    "plt.plot(range(1,num_epochs+1),train_acc_results,label='train_accuracy')\n",
    "plt.plot(range(1,num_epochs+1),test_acc_results,label='test_accuracy')\n",
    "plt.legend()"
   ]
  },
  {
   "cell_type": "code",
   "execution_count": null,
   "id": "8e88490f",
   "metadata": {},
   "outputs": [],
   "source": []
  }
 ],
 "metadata": {
  "kernelspec": {
   "display_name": "Python 3 (ipykernel)",
   "language": "python",
   "name": "python3"
  },
  "language_info": {
   "codemirror_mode": {
    "name": "ipython",
    "version": 3
   },
   "file_extension": ".py",
   "mimetype": "text/x-python",
   "name": "python",
   "nbconvert_exporter": "python",
   "pygments_lexer": "ipython3",
   "version": "3.10.4"
  }
 },
 "nbformat": 4,
 "nbformat_minor": 5
}
